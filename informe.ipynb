{
 "cells": [
  {
   "cell_type": "markdown",
   "metadata": {},
   "source": [
    "# Entrega 3 - Comparación de distintos algoritmos de clasificación\n",
    "\n",
    "### Grupo M:\n",
    "     - Felipe Chavat - 4.659.492-2\n",
    "     - Leonel Rosano - 5.039.791-0\n",
    "     - Emiliano Pérez - 4.787.149-2\n",
    "\n"
   ]
  },
  {
   "cell_type": "markdown",
   "metadata": {},
   "source": [
    "## 1. Objetivo"
   ]
  },
  {
   "cell_type": "markdown",
   "metadata": {},
   "source": [
    "El objetivo de este laboratorio es clasificar los dos conjuntos de datos _Iris_ y _Forest Covertypes_ utilizando los algoritmos _Naive Bayes_ y _K-NN_ (con K igual a 1, 3 y 7). Se evaluan los resultados de cada algoritmo y se comparan con el fin de obtener el mejor algoritmo para cada conjunto de datos. Para esta comparación se toman en cuenta también los resultados obtenidos del laboratorio anterior haciendo uso del algoritmo _ID3_"
   ]
  },
  {
   "cell_type": "markdown",
   "metadata": {},
   "source": [
    "# 2 Diseño"
   ]
  },
  {
   "cell_type": "markdown",
   "metadata": {},
   "source": [
    "# 3. Algoritmos aplicados en conjunto _Iris_"
   ]
  },
  {
   "cell_type": "markdown",
   "metadata": {},
   "source": [
    "### 3.1. Algoritmo de Bayes Ingenuo"
   ]
  },
  {
   "cell_type": "markdown",
   "metadata": {},
   "source": [
    "### 3.2. Algoritmo K-NN"
   ]
  },
  {
   "cell_type": "markdown",
   "metadata": {},
   "source": []
  },
  {
   "cell_type": "code",
   "execution_count": 1,
   "metadata": {},
   "outputs": [
    {
     "name": "stdout",
     "output_type": "stream",
     "text": [
      "            Prec      Rec       Fs\n",
      "  Micro    0.911    0.911    0.911\n",
      "  Macro    0.937    0.867      0.9\n"
     ]
    }
   ],
   "source": [
    "from iris_main import iris_knn\n",
    "iris_knn(1)"
   ]
  },
  {
   "cell_type": "code",
   "execution_count": null,
   "metadata": {},
   "outputs": [],
   "source": []
  }
 ],
 "metadata": {
  "kernelspec": {
   "display_name": "Python 3",
   "language": "python",
   "name": "python3"
  },
  "language_info": {
   "codemirror_mode": {
    "name": "ipython",
    "version": 3
   },
   "file_extension": ".py",
   "mimetype": "text/x-python",
   "name": "python",
   "nbconvert_exporter": "python",
   "pygments_lexer": "ipython3",
   "version": "3.7.0"
  }
 },
 "nbformat": 4,
 "nbformat_minor": 2
}
